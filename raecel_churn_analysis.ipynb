{
 "cells": [
  {
   "cell_type": "code",
   "execution_count": null,
   "id": "7309d169-0b63-4b50-abc8-fdddb5a6a9a1",
   "metadata": {},
   "outputs": [],
   "source": [
    "# Answer for Assignment "
   ]
  },
  {
   "cell_type": "code",
   "execution_count": null,
   "id": "a24ac11b-3156-4638-9442-d8dcf926d49d",
   "metadata": {},
   "outputs": [],
   "source": [
    "Question 1\n",
    "\n",
    "Print out the first five rows of the data."
   ]
  },
  {
   "cell_type": "code",
   "execution_count": null,
   "id": "e1133ef8-909a-4322-aad5-67663b007c1a",
   "metadata": {},
   "outputs": [],
   "source": [
    "import pandas as pd\n",
    "\n",
    "df = pd.read_csv(\"churn_data.csv\")\n",
    "\n",
    "# 1\n",
    "df.head()"
   ]
  },
  {
   "cell_type": "code",
   "execution_count": null,
   "id": "589ce3d4-ff1d-4ad3-ac85-9e6127dae519",
   "metadata": {},
   "outputs": [],
   "source": [
    "Question 2\n",
    "\n",
    "Print out the last five rows of the data."
   ]
  },
  {
   "cell_type": "code",
   "execution_count": null,
   "id": "4b86bfb0-7046-4ea4-bd16-d58c5fb80e22",
   "metadata": {},
   "outputs": [],
   "source": [
    "# 2\n",
    "df.tail()"
   ]
  },
  {
   "cell_type": "code",
   "execution_count": null,
   "id": "6188c296-20e8-4479-9dbe-2fc9afd84343",
   "metadata": {},
   "outputs": [],
   "source": [
    "Question 3\n",
    "\n",
    "What is the shape of the data?"
   ]
  },
  {
   "cell_type": "code",
   "execution_count": null,
   "id": "8ec7af6a-6d1b-490f-8ad4-39e88dfc49a4",
   "metadata": {},
   "outputs": [],
   "source": [
    "# 3\n",
    "df.shape"
   ]
  },
  {
   "cell_type": "code",
   "execution_count": null,
   "id": "d34f4cb4-1c63-4260-bdc5-72c691c3e1a7",
   "metadata": {},
   "outputs": [],
   "source": [
    "Question 4\n",
    "\n",
    "How many columns are present in the dataset?"
   ]
  },
  {
   "cell_type": "code",
   "execution_count": null,
   "id": "beaec3d9-fcdf-43cf-bcbe-d4c87626104d",
   "metadata": {},
   "outputs": [],
   "source": [
    "# 4\n",
    "len(df.columns)"
   ]
  },
  {
   "cell_type": "code",
   "execution_count": null,
   "id": "60a855f6-44c3-4df1-aa74-f80fb4c3966b",
   "metadata": {},
   "outputs": [],
   "source": [
    "Question 5\n",
    "\n",
    "Are there null values in the dataset?"
   ]
  },
  {
   "cell_type": "code",
   "execution_count": null,
   "id": "1c57e10d-a96c-4b39-9354-f783d5b04749",
   "metadata": {},
   "outputs": [],
   "source": [
    "# 5\n",
    "df.isnull().sum()"
   ]
  },
  {
   "cell_type": "code",
   "execution_count": null,
   "id": "09c84a38-c87a-4cdf-a9ac-bba1e25453af",
   "metadata": {},
   "outputs": [],
   "source": [
    "Question 6\n",
    "\n",
    "Print out the description of the numerical columns."
   ]
  },
  {
   "cell_type": "code",
   "execution_count": null,
   "id": "51696d56-83ae-47f8-8186-636c18bba517",
   "metadata": {},
   "outputs": [],
   "source": [
    "# 6\n",
    "df.describe()"
   ]
  },
  {
   "cell_type": "code",
   "execution_count": null,
   "id": "ebf27b73-77fe-453c-b890-415ec3242fd5",
   "metadata": {},
   "outputs": [],
   "source": [
    "Question 7\n",
    "\n",
    "What is the churn distribution among the customers?"
   ]
  },
  {
   "cell_type": "code",
   "execution_count": null,
   "id": "78429d4d-8eeb-4465-9bd3-64e0d9746d59",
   "metadata": {},
   "outputs": [],
   "source": [
    "# 7\n",
    "df['Churn'].value_counts()\n",
    "df['Churn'].value_counts(normalize=True) * 100"
   ]
  },
  {
   "cell_type": "code",
   "execution_count": null,
   "id": "1be31eab-3736-4bf2-9b5c-628b574298f6",
   "metadata": {},
   "outputs": [],
   "source": [
    "Question 8\n",
    "\n",
    "How much time do churned and non-churned users spend on the network during the day, evening, and night on average?"
   ]
  },
  {
   "cell_type": "code",
   "execution_count": null,
   "id": "3f8295ec-28ec-4ebd-b7e8-1e720c9e1506",
   "metadata": {},
   "outputs": [],
   "source": [
    "# 8\n",
    "df.groupby('Churn')[['Total Day Minutes','Total Evening Minutes','Total Night Minutes']].mean()"
   ]
  },
  {
   "cell_type": "code",
   "execution_count": null,
   "id": "6078cddd-07e3-4bb9-82ac-b4988980c95a",
   "metadata": {},
   "outputs": [],
   "source": [
    "Question 9\n",
    "\n",
    "What is the average total charge (day, evening, night, international) for customers who churned versus those who did not?"
   ]
  },
  {
   "cell_type": "code",
   "execution_count": null,
   "id": "b3728eb6-0a7a-4e73-9981-8bfc1690aa4b",
   "metadata": {},
   "outputs": [],
   "source": [
    "# 9\n",
    "df.groupby('Churn')[['Total Day Charge','Total Evening Charge','Total Night Charge','Total International Charge']].mean()"
   ]
  },
  {
   "cell_type": "code",
   "execution_count": null,
   "id": "1d6219e0-d0b3-484c-b324-f46867073fa4",
   "metadata": {},
   "outputs": [],
   "source": [
    "Question 10\n",
    "\n",
    "How do daytime, evening, and nighttime usage metrics compare among customers who churned vs. those who stayed?"
   ]
  },
  {
   "cell_type": "code",
   "execution_count": null,
   "id": "77be6650-fb86-4003-88fe-ec06613e6ec3",
   "metadata": {},
   "outputs": [],
   "source": [
    "# 10\n",
    "df.groupby('Churn')[['Total Day Minutes','Total Day Calls','Total Day Charge',\n",
    "                     'Total Evening Minutes','Total Evening Calls','Total Evening Charge',\n",
    "                     'Total Night Minutes','Total Night Calls','Total Night Charge']].agg(['mean','median','std'])"
   ]
  },
  {
   "cell_type": "code",
   "execution_count": null,
   "id": "bceaca6a-6599-4cd7-bb92-0b850e2d0683",
   "metadata": {},
   "outputs": [],
   "source": [
    "Question 11\n",
    "\n",
    "Are there significant differences in churn rates across different states or area codes?"
   ]
  },
  {
   "cell_type": "code",
   "execution_count": null,
   "id": "c03da820-c1c0-4db9-b4d5-7b565caee8b5",
   "metadata": {},
   "outputs": [],
   "source": [
    "# 11\n",
    "df.groupby('State')['Churn'].mean().sort_values(ascending=False)\n",
    "df.groupby('Area Code')['Churn'].mean().sort_values(ascending=False)"
   ]
  },
  {
   "cell_type": "code",
   "execution_count": null,
   "id": "5d09e82b-8ff0-47be-a5b8-73cc896aa93a",
   "metadata": {},
   "outputs": [],
   "source": [
    "Question 12\n",
    "\n",
    "Do customers# with an international plan have different usage patterns compared to those without?"
   ]
  },
  {
   "cell_type": "code",
   "execution_count": null,
   "id": "299d2c40-d9e6-467c-9cc1-0da9db67e0a1",
   "metadata": {},
   "outputs": [],
   "source": [
    "# 12\n",
    "df.groupby('International Plan')[['Total Day Minutes','Total Evening Minutes','Total Night Minutes',\n",
    "                                  'Total Day Charge','Total Evening Charge','Total Night Charge',\n",
    "                                  'Total International Minutes','Total International Calls','Total International Charge']].mean()"
   ]
  },
  {
   "cell_type": "code",
   "execution_count": null,
   "id": "75fcd1aa-79f3-47c0-bd84-6795ff8ec707",
   "metadata": {},
   "outputs": [],
   "source": [
    "Question 13\n",
    "\n",
    "Who engages customer care the most among the customers?"
   ]
  },
  {
   "cell_type": "code",
   "execution_count": null,
   "id": "144aa83e-939c-4481-ab75-f6e2af9a4b08",
   "metadata": {},
   "outputs": [],
   "source": [
    "# 13\n",
    "df['Customer Service Calls'].value_counts().sort_index()\n",
    "df.groupby('Customer Service Calls')['Churn'].mean().sort_values(ascending=False)"
   ]
  },
  {
   "cell_type": "code",
   "execution_count": null,
   "id": "45fd5d79-7bfa-4b3e-a355-192c264cad79",
   "metadata": {},
   "outputs": [],
   "source": [
    "Question 14\n",
    "\n",
    "How many customers are on an International plan and how many are not?"
   ]
  },
  {
   "cell_type": "code",
   "execution_count": null,
   "id": "ad8ae7cd-a4fe-48b6-b365-f2325a1eaa63",
   "metadata": {},
   "outputs": [],
   "source": [
    "# 14\n",
    "df['International Plan'].value_counts()"
   ]
  },
  {
   "cell_type": "code",
   "execution_count": null,
   "id": "6c059274-ebfc-4197-9e65-5af660e726e4",
   "metadata": {},
   "outputs": [],
   "source": [
    "Question 15\n",
    "\n",
    "How many customers have voicemail plans and how many do not?"
   ]
  },
  {
   "cell_type": "code",
   "execution_count": null,
   "id": "c6172666-037d-41a8-8f24-c7ab01b7b4e0",
   "metadata": {},
   "outputs": [],
   "source": [
    "# 15\n",
    "df['VoiceMail Plan'].value_counts()"
   ]
  },
  {
   "cell_type": "code",
   "execution_count": null,
   "id": "c63c9284-49db-46db-b640-71dac8ddb9d6",
   "metadata": {},
   "outputs": [],
   "source": [
    "Question 16\n",
    "\n",
    "What are the characteristics of loyal customers?"
   ]
  },
  {
   "cell_type": "code",
   "execution_count": null,
   "id": "6a273a15-1bd6-46b4-9e0b-397c9abf4299",
   "metadata": {},
   "outputs": [],
   "source": [
    "# 16\n",
    "loyal = df[df['Churn'] == False]\n",
    "loyal.describe()"
   ]
  }
 ],
 "metadata": {
  "kernelspec": {
   "display_name": "Python 3 (ipykernel)",
   "language": "python",
   "name": "python3"
  },
  "language_info": {
   "codemirror_mode": {
    "name": "ipython",
    "version": 3
   },
   "file_extension": ".py",
   "mimetype": "text/x-python",
   "name": "python",
   "nbconvert_exporter": "python",
   "pygments_lexer": "ipython3",
   "version": "3.13.5"
  }
 },
 "nbformat": 4,
 "nbformat_minor": 5
}
